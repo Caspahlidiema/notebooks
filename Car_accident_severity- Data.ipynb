{
 "cells": [
  {
   "cell_type": "markdown",
   "metadata": {},
   "source": [
    "## Car Accident Severity"
   ]
  },
  {
   "cell_type": "markdown",
   "metadata": {},
   "source": [
    "## Data\n",
    "\n",
    "The dataset used for this project is based on car accidents which have taken place within the city of Seattle, Washington from the year 2004 to 2020. This data is regarding the severity of each car accidents along with the time and conditions under which each accident occurred. The data set used for this project can be found at https://www.coursera.org/learn/applied-data-science-capstone/supplement/Nh5uS/downloading-example-dataset.\n",
    "\n",
    "From this data SEVERITY will be the dependent Variable while tye independnet variables will be WEATHER, ROADCOND and LIGHTCOND. The data will be divided into This will be divided into training set and testing set before analysis is formally done. Logistic regression, K-means and classification models will be preformed and confustion matrix will be used for testing accuracy."
   ]
  }
 ],
 "metadata": {
  "kernelspec": {
   "display_name": "Python 3",
   "language": "python",
   "name": "python3"
  },
  "language_info": {
   "codemirror_mode": {
    "name": "ipython",
    "version": 3
   },
   "file_extension": ".py",
   "mimetype": "text/x-python",
   "name": "python",
   "nbconvert_exporter": "python",
   "pygments_lexer": "ipython3",
   "version": "3.7.6"
  }
 },
 "nbformat": 4,
 "nbformat_minor": 4
}
