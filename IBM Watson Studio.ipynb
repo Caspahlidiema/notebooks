{
    "cells": [
        {
            "cell_type": "markdown",
            "metadata": {
                "collapsed": true
            },
            "source": "# My Jupyter Notebook on IBM Watson Studio"
        },
        {
            "cell_type": "markdown",
            "metadata": {},
            "source": "**Caspah Lidiema**\n\nFinancial Data Scientist"
        },
        {
            "cell_type": "markdown",
            "metadata": {},
            "source": " - *I am interested in data science because I am fascinated by data and the information from the data. For example forecasting*\n - *I am also interested in data science becuase visualizations speak a thousand words to the audience through dashboard reports*"
        },
        {
            "cell_type": "markdown",
            "metadata": {},
            "source": "### The Following cell will perform simple mathematical Operations i.e\n 1. Addition\n 2. Subtraction\n 3. Multiplication\n 4. Division"
        },
        {
            "cell_type": "code",
            "execution_count": 2,
            "metadata": {},
            "outputs": [
                {
                    "name": "stdout",
                    "output_type": "stream",
                    "text": "15\n5\n50\n2.0\n"
                }
            ],
            "source": "a = 10\nb = 5\nc = a + b\nd = a - b\ne = a * b\nf = a / b\nprint(c)\nprint(d)\nprint(e)\nprint(f)"
        },
        {
            "cell_type": "markdown",
            "metadata": {},
            "source": "1. My name is Caspah\n2. I am an aspiring Data Scientist\n\n---\n - My name is Caspah\n - I am an aspiring Data Scientist\n \n> This is my block quote"
        },
        {
            "cell_type": "code",
            "execution_count": null,
            "metadata": {},
            "outputs": [],
            "source": ""
        }
    ],
    "metadata": {
        "kernelspec": {
            "display_name": "Python 3.6",
            "language": "python",
            "name": "python3"
        },
        "language_info": {
            "codemirror_mode": {
                "name": "ipython",
                "version": 3
            },
            "file_extension": ".py",
            "mimetype": "text/x-python",
            "name": "python",
            "nbconvert_exporter": "python",
            "pygments_lexer": "ipython3",
            "version": "3.6.9"
        }
    },
    "nbformat": 4,
    "nbformat_minor": 1
}