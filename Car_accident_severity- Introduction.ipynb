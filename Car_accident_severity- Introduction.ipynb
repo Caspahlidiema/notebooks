{
 "cells": [
  {
   "cell_type": "markdown",
   "metadata": {},
   "source": [
    "## Car Accident Severity"
   ]
  },
  {
   "cell_type": "markdown",
   "metadata": {},
   "source": [
    "## Introduction\n",
    "The increase in population  and number of motor vehicles on our roads has led to increased car accidents and the severity as of injuries as well globally. The number of victims has increased with various forms of severity leaving most dead and several with permanent disabilities.  while different factors can be said to be leading to these traffic accidents, weather factors have contributed largely to this. WHO(2020) estimates that approximately 1.35 million people die each year as a result of road traffic crashes? These road traffic injuries cause considerable economic losses to the world through loss of  productive individuals who end up spending most of their time is hospitals, while their families also affected and affecting their jobs as well as they tend to the injured (WHO,2020). This also lead, bread winners losing jobs in cases of total incapacitation.\n",
    "\n",
    "\n",
    "Therefore, it is imperative to establish which factors clearly lead to such accident and how to tackle it. This project is geared towards on predicting severity car crashes severity by employing 6-related parameters in three main machine learning models. Predicting crash injury severity is very important as it will help concerned authorities to put in place measures of reducing future crashed and severity."
   ]
  },
  {
   "cell_type": "code",
   "execution_count": null,
   "metadata": {},
   "outputs": [],
   "source": []
  }
 ],
 "metadata": {
  "kernelspec": {
   "display_name": "Python 3",
   "language": "python",
   "name": "python3"
  },
  "language_info": {
   "codemirror_mode": {
    "name": "ipython",
    "version": 3
   },
   "file_extension": ".py",
   "mimetype": "text/x-python",
   "name": "python",
   "nbconvert_exporter": "python",
   "pygments_lexer": "ipython3",
   "version": "3.7.6"
  }
 },
 "nbformat": 4,
 "nbformat_minor": 4
}
